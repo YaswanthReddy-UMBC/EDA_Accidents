{
  "cells": [
    {
      "cell_type": "code",
      "execution_count": null,
      "id": "64765af5",
      "metadata": {
        "scrolled": true,
        "id": "64765af5"
      },
      "outputs": [],
      "source": [
        "'''\n",
        "Q1\n",
        "From these three csv files, create a single dataframe which will include following columns only\n",
        "\n",
        "from the \"crashes.csv\", accident data (acc_dat), accident time (acc_time), weather description (weather_desc),\n",
        "report no, county (county_desc), latittude, and longitude\n",
        "from the \"persons.csv\", gender, data of birth, and state code\n",
        "from the \"vehicles.csv\", vehicle year, vehicle make, speed limit\n",
        "Save your dataframe as a new csv file called \"md_crash_2020.csv\".\n",
        "\n",
        "Note: All these csv files have the 'REPORT_NO' column. You need to use that column to combine these datasets.\n",
        "\n",
        "'''\n",
        "\n",
        "import pandas as pd\n",
        "#Reading .csv files\n",
        "df_crashes = pd.read_csv('/Users/yash/Downloads/Data 601/Project1/Maryland_Statewide_Vehicle_Crashes.csv')\n",
        "df_peoples = pd.read_csv('/Users/yash/Downloads/Data 601/Project1/Maryland_Statewide_Vehicle_Crashes_-_Person_Details__Anonymized_.csv')\n",
        "df_vehicles = pd.read_csv('/Users/yash/Downloads/Data 601/Project1/Maryland_Statewide_Vehicle_Crashes_-_Vehicle_Details.csv')\n",
        "#Creating Vehicles.csv file\n",
        "vehicles = df_vehicles[df_vehicles.YEAR == 2020]\n",
        "vehicles = vehicles[[\"REPORT_NO\",\"VEH_YEAR\", \"VEH_MAKE\", \"SPEED_LIMIT\"]]\n",
        "vehicles.to_csv(\"vehicles.csv\")\n",
        "#creating Persons.csv file\n",
        "persons = df_peoples[df_peoples.YEAR == 2020]\n",
        "persons = persons[[\"REPORT_NO\",\"SEX_DESC\",\"DATE_OF_BIRTH\",\"LICENSE_STATE_CODE\"]]\n",
        "persons.to_csv(\"persons.csv\")\n",
        "#creating Crashes.csv file\n",
        "crashes = df_crashes[df_crashes.YEAR == 2020]\n",
        "crashes = crashes[[\"REPORT_NO\",\"ACC_DATE\",\"ACC_TIME\",\"WEATHER_DESC\",\"COUNTY_DESC\",\"LATITUDE\",\"LONGITUDE\"]]\n",
        "crashes.to_csv(\"crashes.csv\")\n",
        "#merging three data sets to md_crash_2020.\n",
        "md_crash = pd.merge(crashes, persons, \n",
        "                   on='REPORT_NO', \n",
        "                   how='inner')\n",
        "md_crash_2020 = pd.merge(md_crash,vehicles, \n",
        "                   on='REPORT_NO', \n",
        "                   how='inner')\n",
        "md_crash_2020.to_csv(\"md_crash_2020.csv\")\n",
        "print(\"The Csv files for persons, vehicles, crashes and md_crash_2020 are done.\")\n"
      ]
    },
    {
      "cell_type": "code",
      "execution_count": null,
      "id": "ae7367ef",
      "metadata": {
        "id": "ae7367ef",
        "outputId": "8705e417-1792-45a2-a1b7-16c77768bfa1"
      },
      "outputs": [
        {
          "data": {
            "text/html": [
              "<div>\n",
              "<style scoped>\n",
              "    .dataframe tbody tr th:only-of-type {\n",
              "        vertical-align: middle;\n",
              "    }\n",
              "\n",
              "    .dataframe tbody tr th {\n",
              "        vertical-align: top;\n",
              "    }\n",
              "\n",
              "    .dataframe thead th {\n",
              "        text-align: right;\n",
              "    }\n",
              "</style>\n",
              "<table border=\"1\" class=\"dataframe\">\n",
              "  <thead>\n",
              "    <tr style=\"text-align: right;\">\n",
              "      <th></th>\n",
              "      <th>COUNTY_DESC</th>\n",
              "      <th>age</th>\n",
              "    </tr>\n",
              "  </thead>\n",
              "  <tbody>\n",
              "    <tr>\n",
              "      <th>23</th>\n",
              "      <td>Worcester</td>\n",
              "      <td>34.228873</td>\n",
              "    </tr>\n",
              "    <tr>\n",
              "      <th>3</th>\n",
              "      <td>Baltimore City</td>\n",
              "      <td>36.127458</td>\n",
              "    </tr>\n",
              "    <tr>\n",
              "      <th>8</th>\n",
              "      <td>Charles</td>\n",
              "      <td>36.150737</td>\n",
              "    </tr>\n",
              "    <tr>\n",
              "      <th>19</th>\n",
              "      <td>St. Mary's</td>\n",
              "      <td>36.376847</td>\n",
              "    </tr>\n",
              "    <tr>\n",
              "      <th>22</th>\n",
              "      <td>Wicomico</td>\n",
              "      <td>36.430564</td>\n",
              "    </tr>\n",
              "    <tr>\n",
              "      <th>16</th>\n",
              "      <td>Prince George's</td>\n",
              "      <td>36.443625</td>\n",
              "    </tr>\n",
              "    <tr>\n",
              "      <th>11</th>\n",
              "      <td>Garrett</td>\n",
              "      <td>36.792841</td>\n",
              "    </tr>\n",
              "    <tr>\n",
              "      <th>7</th>\n",
              "      <td>Cecil</td>\n",
              "      <td>37.005231</td>\n",
              "    </tr>\n",
              "    <tr>\n",
              "      <th>5</th>\n",
              "      <td>Caroline</td>\n",
              "      <td>37.146429</td>\n",
              "    </tr>\n",
              "    <tr>\n",
              "      <th>13</th>\n",
              "      <td>Howard</td>\n",
              "      <td>37.199817</td>\n",
              "    </tr>\n",
              "    <tr>\n",
              "      <th>4</th>\n",
              "      <td>Calvert</td>\n",
              "      <td>37.231669</td>\n",
              "    </tr>\n",
              "    <tr>\n",
              "      <th>21</th>\n",
              "      <td>Washington</td>\n",
              "      <td>37.359000</td>\n",
              "    </tr>\n",
              "    <tr>\n",
              "      <th>10</th>\n",
              "      <td>Frederick</td>\n",
              "      <td>37.439508</td>\n",
              "    </tr>\n",
              "    <tr>\n",
              "      <th>18</th>\n",
              "      <td>Somerset</td>\n",
              "      <td>37.440567</td>\n",
              "    </tr>\n",
              "    <tr>\n",
              "      <th>1</th>\n",
              "      <td>Anne Arundel</td>\n",
              "      <td>37.481162</td>\n",
              "    </tr>\n",
              "    <tr>\n",
              "      <th>9</th>\n",
              "      <td>Dorchester</td>\n",
              "      <td>37.714850</td>\n",
              "    </tr>\n",
              "    <tr>\n",
              "      <th>17</th>\n",
              "      <td>Queen Anne's</td>\n",
              "      <td>37.916318</td>\n",
              "    </tr>\n",
              "    <tr>\n",
              "      <th>2</th>\n",
              "      <td>Baltimore</td>\n",
              "      <td>37.929904</td>\n",
              "    </tr>\n",
              "    <tr>\n",
              "      <th>12</th>\n",
              "      <td>Harford</td>\n",
              "      <td>38.075999</td>\n",
              "    </tr>\n",
              "    <tr>\n",
              "      <th>15</th>\n",
              "      <td>Montgomery</td>\n",
              "      <td>38.319774</td>\n",
              "    </tr>\n",
              "    <tr>\n",
              "      <th>6</th>\n",
              "      <td>Carroll</td>\n",
              "      <td>38.756482</td>\n",
              "    </tr>\n",
              "    <tr>\n",
              "      <th>20</th>\n",
              "      <td>Talbot</td>\n",
              "      <td>38.808812</td>\n",
              "    </tr>\n",
              "    <tr>\n",
              "      <th>14</th>\n",
              "      <td>Kent</td>\n",
              "      <td>38.870796</td>\n",
              "    </tr>\n",
              "    <tr>\n",
              "      <th>0</th>\n",
              "      <td>Allegany</td>\n",
              "      <td>39.278689</td>\n",
              "    </tr>\n",
              "  </tbody>\n",
              "</table>\n",
              "</div>"
            ],
            "text/plain": [
              "        COUNTY_DESC        age\n",
              "23        Worcester  34.228873\n",
              "3    Baltimore City  36.127458\n",
              "8           Charles  36.150737\n",
              "19       St. Mary's  36.376847\n",
              "22         Wicomico  36.430564\n",
              "16  Prince George's  36.443625\n",
              "11          Garrett  36.792841\n",
              "7             Cecil  37.005231\n",
              "5          Caroline  37.146429\n",
              "13           Howard  37.199817\n",
              "4           Calvert  37.231669\n",
              "21       Washington  37.359000\n",
              "10        Frederick  37.439508\n",
              "18         Somerset  37.440567\n",
              "1      Anne Arundel  37.481162\n",
              "9        Dorchester  37.714850\n",
              "17     Queen Anne's  37.916318\n",
              "2         Baltimore  37.929904\n",
              "12          Harford  38.075999\n",
              "15       Montgomery  38.319774\n",
              "6           Carroll  38.756482\n",
              "20           Talbot  38.808812\n",
              "14             Kent  38.870796\n",
              "0          Allegany  39.278689"
            ]
          },
          "execution_count": 87,
          "metadata": {},
          "output_type": "execute_result"
        }
      ],
      "source": [
        "# QUESTION 2:\n",
        "#A.For each county, determine the average age of the drivers who were involved in these accidents\n",
        "md_crash_2020['DATE_OF_BIRTH'] = md_crash_2020['DATE_OF_BIRTH'].map(str)\n",
        "md_crash_2020['DATE_OF_BIRTH'] = md_crash_2020['DATE_OF_BIRTH'].apply(lambda x: x[:8])\n",
        "md_crash_2020['DATE_OF_BIRTH'] = pd.to_datetime(md_crash_2020['DATE_OF_BIRTH'])\n",
        "\n",
        "md_crash_2020['ACC_DATE'] = md_crash_2020['ACC_DATE'].map(str)\n",
        "md_crash_2020['ACC_DATE'] = pd.to_datetime(md_crash_2020['ACC_DATE'])\n",
        "\n",
        "md_crash_2020['age'] = (md_crash_2020['ACC_DATE'] - md_crash_2020['DATE_OF_BIRTH']).astype('<m8[Y]')\n",
        "md_crash_2020.to_csv(\"md_crash_2020.csv\")\n",
        "\n",
        "md_crash_2020.groupby('COUNTY_DESC', as_index=False)['age'].mean()\n",
        "\n",
        "#B. Then list the sorted averages (from youngest to oldest)\n",
        "md_crash_2020.groupby('COUNTY_DESC', as_index=False)['age'].mean().sort_values(by='age', ascending=True)\n"
      ]
    },
    {
      "cell_type": "code",
      "execution_count": null,
      "id": "3e7b3402",
      "metadata": {
        "id": "3e7b3402",
        "outputId": "4542aa58-e37a-4873-c537-52d924083f5b"
      },
      "outputs": [
        {
          "name": "stdout",
          "output_type": "stream",
          "text": [
            "EZ LOAD             1\n",
            "MERCS-BENZ          1\n",
            "HRLY DVDSN          1\n",
            "NISSAB              1\n",
            "RANGE ROVERE        1\n",
            "                ...  \n",
            "UNKNOWN         18929\n",
            "NISSAN          28016\n",
            "TOYOTA          39668\n",
            "HONDA           41282\n",
            "FORD            48525\n",
            "Name: VEH_MAKE, Length: 2434, dtype: int64\n"
          ]
        },
        {
          "data": {
            "text/plain": [
              "VEH_MAKE\n",
              "00                      20.0\n",
              "000                      NaN\n",
              "0000                     0.0\n",
              "00000                    NaN\n",
              "0099                     NaN\n",
              "                        ... \n",
              "YY 150 TS               14.0\n",
              "ZERO                     0.0\n",
              "ZHEJIANG                 1.0\n",
              "ZHEJIANG TAOTAO VEH.     NaN\n",
              "`BUIC                   19.0\n",
              "Name: CAR_AGE, Length: 2433, dtype: float64"
            ]
          },
          "execution_count": 88,
          "metadata": {},
          "output_type": "execute_result"
        }
      ],
      "source": [
        "#Question 3:\n",
        "# A. Determine the total number of crashes per \"vehicle make\". List the sorted values (e.g. Honda, 1234)\n",
        "print(md_crash_2020[\"VEH_MAKE\"].value_counts(dropna = False, ascending=True))\n",
        "\n",
        "# B. Determine average age of the car involved in these accidents for each \"vehicle make\".\n",
        "md_crash_2020['VEH_YEAR'] = md_crash_2020['VEH_YEAR'].map(str)\n",
        "md_crash_2020['VEH_YEAR'] = md_crash_2020['VEH_YEAR'].apply(lambda x: x[:4])\n",
        "md_crash_2020['VEH_YEAR'] = pd.to_datetime(md_crash_2020['VEH_YEAR'], format = \"%Y\",errors='coerce')\n",
        "md_crash_2020['CAR_AGE'] = md_crash_2020['ACC_DATE'].dt.year - md_crash_2020['VEH_YEAR'].dt.year\n",
        "md_crash_2020.groupby([\"VEH_MAKE\"])[\"CAR_AGE\"].mean()"
      ]
    },
    {
      "cell_type": "code",
      "execution_count": null,
      "id": "b7c9df94",
      "metadata": {
        "id": "b7c9df94",
        "outputId": "3fc8b889-0850-4df2-8644-c646311694e5"
      },
      "outputs": [
        {
          "name": "stdout",
          "output_type": "stream",
          "text": [
            "         REPORT_NO   ACC_DATE  ACC_TIME    WEATHER_DESC COUNTY_DESC  \\\n",
            "8374    ZJ05250021 2020-05-24  00:37:00             NaN   Frederick   \n",
            "25294  MSP65800073 2020-06-11  13:15:00  Not Applicable   Frederick   \n",
            "25295  MSP65800073 2020-06-11  13:15:00  Not Applicable   Frederick   \n",
            "25296  MSP65800073 2020-06-11  13:15:00  Not Applicable   Frederick   \n",
            "25297  MSP65800073 2020-06-11  13:15:00  Not Applicable   Frederick   \n",
            "\n",
            "        LATITUDE  LONGITUDE SEX_DESC DATE_OF_BIRTH LICENSE_STATE_CODE  \\\n",
            "8374   39.506186 -77.374413     Male    1996-06-14                 MD   \n",
            "25294  39.464619 -77.365696     Male    1999-11-24                 MD   \n",
            "25295  39.464619 -77.365696     Male    1999-11-24                 MD   \n",
            "25296  39.464619 -77.365696   Female    1950-08-01                 MD   \n",
            "25297  39.464619 -77.365696   Female    1950-08-01                 MD   \n",
            "\n",
            "        VEH_YEAR VEH_MAKE  SPEED_LIMIT   age  CAR_AGE  DISTANCE  \n",
            "8374  2007-01-01   TOYOTA           40  23.0     13.0  3.905359  \n",
            "25294 2006-01-01    ACURA           50  20.0     14.0  4.236927  \n",
            "25295 2015-01-01     FORD           50  20.0      5.0  4.236927  \n",
            "25296 2006-01-01    ACURA           50  69.0     14.0  4.236927  \n",
            "25297 2015-01-01     FORD           50  69.0      5.0  4.236927  \n",
            "\n",
            "The number of accidents where the speed limit was above 51 miles per hour is:  38\n",
            "The number of accidents where the speed limit was above 51 miles per hour is:  162\n"
          ]
        }
      ],
      "source": [
        "#Q4(GET CIRCLE PLOT FOR QUES-A)\n",
        "# A. Determine all the accidents that happened in a circle centered at (39.016149, -77.117942) with a radius of 5 km. Among them,\n",
        "from math import radians, sin, cos, acos\n",
        "import numpy as np\n",
        "slat = radians(39.49273)\n",
        "slon = radians(-77.33237)\n",
        "list1 =[]\n",
        "speed_great_51 = 0\n",
        "speed_less_41 = 0\n",
        "i =0\n",
        "for a,b in zip(md_crash_2020.LATITUDE, md_crash_2020.LONGITUDE):\n",
        "    i+=1\n",
        "    elat = radians(a)\n",
        "    elon = radians(b)\n",
        "    dist = 6371.01 * acos(sin(slat)*sin(elat) + cos(slat)*cos(elat)*cos(slon - elon))\n",
        "    list1.append(dist)\n",
        "    if dist <=5:\n",
        "#         print(md_crash_2020.loc[i])\n",
        "        if md_crash_2020.SPEED_LIMIT[i] >51:\n",
        "            speed_great_51+=1\n",
        "            \n",
        "        elif  md_crash_2020.SPEED_LIMIT[i] <41:\n",
        "            speed_less_41+=1\n",
        "        \n",
        "        \n",
        "    else:\n",
        "        pass\n",
        "md_crash_2020[\"DISTANCE\"] = list1\n",
        "dist_less_5 = md_crash_2020[md_crash_2020[\"DISTANCE\"] < 5]\n",
        "print(dist_less_5.head())\n",
        "# b. Determine the number of accidents where the speed limit was above 51 miles per hour.\n",
        "print(f\"\\nThe number of accidents where the speed limit was above 51 miles per hour is: \", speed_great_51)\n",
        "# c. Determine the number of accidents where the speed limit was below 41 miles per hour.\n",
        "print(f\"The number of accidents where the speed limit was above 51 miles per hour is: \", speed_less_41)"
      ]
    },
    {
      "cell_type": "code",
      "execution_count": null,
      "id": "f1e453ba",
      "metadata": {
        "id": "f1e453ba",
        "outputId": "d9a6d44c-1e72-4258-a93f-180f59b56076"
      },
      "outputs": [
        {
          "name": "stdout",
          "output_type": "stream",
          "text": [
            "<class 'pandas.core.frame.DataFrame'>\n",
            "Int64Index: 156285 entries, 0 to 411733\n",
            "Data columns (total 2 columns):\n",
            " #   Column              Non-Null Count   Dtype \n",
            "---  ------              --------------   ----- \n",
            " 0   SEX_DESC            119598 non-null  object\n",
            " 1   LICENSE_STATE_CODE  26279 non-null   object\n",
            "dtypes: object(2)\n",
            "memory usage: 3.6+ MB\n",
            "None\n",
            "SEX_DESC            Female    Male  Unknown\n",
            "LICENSE_STATE_CODE                         \n",
            "AB                     2.0     0.0      0.0\n",
            "AK                    19.0    29.0      1.0\n",
            "AL                    41.0    67.0      0.0\n",
            "AR                    23.0    37.0      0.0\n",
            "AS                     0.0     2.0      0.0\n",
            "...                    ...     ...      ...\n",
            "WI                    22.0    50.0      0.0\n",
            "WV                   586.0   999.0      3.0\n",
            "WY                     5.0    15.0      0.0\n",
            "XX                   619.0  2105.0    254.0\n",
            "YT                     0.0     4.0      0.0\n",
            "\n",
            "[67 rows x 3 columns]\n"
          ]
        },
        {
          "data": {
            "text/html": [
              "<div>\n",
              "<style scoped>\n",
              "    .dataframe tbody tr th:only-of-type {\n",
              "        vertical-align: middle;\n",
              "    }\n",
              "\n",
              "    .dataframe tbody tr th {\n",
              "        vertical-align: top;\n",
              "    }\n",
              "\n",
              "    .dataframe thead th {\n",
              "        text-align: right;\n",
              "    }\n",
              "</style>\n",
              "<table border=\"1\" class=\"dataframe\">\n",
              "  <thead>\n",
              "    <tr style=\"text-align: right;\">\n",
              "      <th>SEX_DESC</th>\n",
              "      <th>Female</th>\n",
              "      <th>Male</th>\n",
              "      <th>Unknown</th>\n",
              "    </tr>\n",
              "    <tr>\n",
              "      <th>LICENSE_STATE_CODE</th>\n",
              "      <th></th>\n",
              "      <th></th>\n",
              "      <th></th>\n",
              "    </tr>\n",
              "  </thead>\n",
              "  <tbody>\n",
              "    <tr>\n",
              "      <th>AB</th>\n",
              "      <td>0.000944</td>\n",
              "      <td>0.000000</td>\n",
              "      <td>0.000000</td>\n",
              "    </tr>\n",
              "    <tr>\n",
              "      <th>AK</th>\n",
              "      <td>0.008971</td>\n",
              "      <td>0.006369</td>\n",
              "      <td>0.003937</td>\n",
              "    </tr>\n",
              "    <tr>\n",
              "      <th>AL</th>\n",
              "      <td>0.019358</td>\n",
              "      <td>0.014716</td>\n",
              "      <td>0.000000</td>\n",
              "    </tr>\n",
              "    <tr>\n",
              "      <th>AR</th>\n",
              "      <td>0.010859</td>\n",
              "      <td>0.008127</td>\n",
              "      <td>0.000000</td>\n",
              "    </tr>\n",
              "    <tr>\n",
              "      <th>AS</th>\n",
              "      <td>0.000000</td>\n",
              "      <td>0.000439</td>\n",
              "      <td>0.000000</td>\n",
              "    </tr>\n",
              "    <tr>\n",
              "      <th>...</th>\n",
              "      <td>...</td>\n",
              "      <td>...</td>\n",
              "      <td>...</td>\n",
              "    </tr>\n",
              "    <tr>\n",
              "      <th>WI</th>\n",
              "      <td>0.010387</td>\n",
              "      <td>0.010982</td>\n",
              "      <td>0.000000</td>\n",
              "    </tr>\n",
              "    <tr>\n",
              "      <th>WV</th>\n",
              "      <td>0.276676</td>\n",
              "      <td>0.219416</td>\n",
              "      <td>0.011811</td>\n",
              "    </tr>\n",
              "    <tr>\n",
              "      <th>WY</th>\n",
              "      <td>0.002361</td>\n",
              "      <td>0.003295</td>\n",
              "      <td>0.000000</td>\n",
              "    </tr>\n",
              "    <tr>\n",
              "      <th>XX</th>\n",
              "      <td>0.292257</td>\n",
              "      <td>0.462333</td>\n",
              "      <td>1.000000</td>\n",
              "    </tr>\n",
              "    <tr>\n",
              "      <th>YT</th>\n",
              "      <td>0.000000</td>\n",
              "      <td>0.000879</td>\n",
              "      <td>0.000000</td>\n",
              "    </tr>\n",
              "  </tbody>\n",
              "</table>\n",
              "<p>67 rows × 3 columns</p>\n",
              "</div>"
            ],
            "text/plain": [
              "SEX_DESC              Female      Male   Unknown\n",
              "LICENSE_STATE_CODE                              \n",
              "AB                  0.000944  0.000000  0.000000\n",
              "AK                  0.008971  0.006369  0.003937\n",
              "AL                  0.019358  0.014716  0.000000\n",
              "AR                  0.010859  0.008127  0.000000\n",
              "AS                  0.000000  0.000439  0.000000\n",
              "...                      ...       ...       ...\n",
              "WI                  0.010387  0.010982  0.000000\n",
              "WV                  0.276676  0.219416  0.011811\n",
              "WY                  0.002361  0.003295  0.000000\n",
              "XX                  0.292257  0.462333  1.000000\n",
              "YT                  0.000000  0.000879  0.000000\n",
              "\n",
              "[67 rows x 3 columns]"
            ]
          },
          "metadata": {},
          "output_type": "display_data"
        }
      ],
      "source": [
        "#Q.5\n",
        "'''a. Determine the number of drivers, who got in a car crash, from non-DMV states \n",
        "as a function of gender and list them\n",
        "St Male Female\n",
        "NY 1510  622\n",
        "PA 1251 1312\n",
        "...\n",
        "Note: DMV states: DC, MD, and VA'''\n",
        "gender_crash = md_crash_2020[[\"SEX_DESC\", \"LICENSE_STATE_CODE\"]]\n",
        "gender_crash = gender_crash[(gender_crash.LICENSE_STATE_CODE != \"DC\")  & (gender_crash.LICENSE_STATE_CODE != \"MD\") & (gender_crash.LICENSE_STATE_CODE != \"VA\")]\n",
        "print(gender_crash.info())\n",
        "gender_crash_1 = gender_crash.groupby([\"LICENSE_STATE_CODE\"])[\"SEX_DESC\"].value_counts().unstack().fillna(0)\n",
        "print(gender_crash_1)\n",
        "\n",
        "\n",
        "'''b. Normalize the previous list with number of male drivers and female drivers for each state. \n",
        "e.g. There are 1 million male drivers in NY and 2 million female drivers, then the normalized numbers should be\n",
        "\n",
        "St    Male_Norm  Female_Norm\n",
        "NY    1.510e-3  0.311e-3'''\n",
        "\n",
        "\n",
        "gender_crash_scaled = gender_crash_1.copy()\n",
        "for column in gender_crash_scaled.columns:\n",
        "    gender_crash_scaled[column] = gender_crash_scaled[column] / gender_crash_scaled[column].abs().max()\n",
        "display(gender_crash_scaled)\n"
      ]
    },
    {
      "cell_type": "code",
      "execution_count": null,
      "id": "e0ab239e",
      "metadata": {
        "id": "e0ab239e",
        "outputId": "1d093149-c30b-4cb2-c6f0-2d61d2bd4e52"
      },
      "outputs": [
        {
          "name": "stdout",
          "output_type": "stream",
          "text": [
            "The most crashes happened on the friday:  69915\n",
            "The most accidents happened at 1700 hours:  34859\n"
          ]
        }
      ],
      "source": [
        "#Q6\n",
        "#a. On which day of the week (Monday through Sunday) do the most of the crashes happen?\n",
        "md_crash_2020[\"ACC_DAY\"] = md_crash_2020[\"ACC_DATE\"].dt.day_name()\n",
        "print(f\"The most crashes happened on the friday: \",md_crash_2020.groupby([\"ACC_DAY\"])[\"ACC_DAY\"].count().max())\n",
        "\n",
        "#b. On which hour of the day (00 - 24) do the most of the crashes happen?\n",
        "md_crash_2020['ACC_TIME'] = pd.to_datetime(md_crash_2020['ACC_TIME'])\n",
        "md_crash_2020[\"ACC_HOUR\"] = md_crash_2020['ACC_TIME'].apply(lambda x: x.hour)\n",
        "print(f\"The most accidents happened at 1700 hours: \",md_crash_2020.groupby([\"ACC_HOUR\"])[\"ACC_HOUR\"].count().max())\n"
      ]
    },
    {
      "cell_type": "code",
      "execution_count": null,
      "id": "f48c0d21",
      "metadata": {
        "id": "f48c0d21",
        "outputId": "1ea4c82d-9b98-45d6-8ce6-0345c7a9a8aa"
      },
      "outputs": [
        {
          "name": "stdout",
          "output_type": "stream",
          "text": [
            "\n",
            "The number of accidents happened on rainy day are:  153790\n",
            "\n",
            "The number of accidents happened on non-rainy day are:  255642\n",
            "\n",
            "The ratio between rainy days and non-rainy days is:  1.6622797321022174\n",
            "\n",
            "The ratio tells us that for one accident on rainy day approximately 54 accidents are happening on non-rainy days\n"
          ]
        }
      ],
      "source": [
        "#Q.7\n",
        "'''You need assume that it is a rainy/snowy day if the second column is bigger than 0.05 \n",
        "or if the third column is bigger than 1; otherwise take that day as a non-rainy/snowy day.'''\n",
        "\n",
        "#a. What is the ratio of the number of accidents happened in rainy/snowy days to the number of\n",
        "#accidents happened in non-rainy/snowy days?\n",
        "\n",
        "url = \"https://raw.githubusercontent.com/simsekergun/DATA601/main/Project1/MD2020_Rain_Snow.csv\"\n",
        "climate=pd.read_csv(url, encoding='utf8', on_bad_lines='skip')\n",
        "climate[\"Date\"] = pd.to_datetime(climate[\"Date\"], format='%m/%d/%Y',exact=False)\n",
        "climate.rename(columns = {'Date':'ACC_DATE'}, inplace = True)\n",
        "output = pd.merge(md_crash_2020,climate, on=['ACC_DATE'], how='outer')\n",
        "output1 = output.copy()\n",
        "output1.rename(columns = {'Precip in.':'Precip', 'Snow in.':'Snow' }, inplace = True)\n",
        "rainy_days = output1[(output1.Precip > 0.05) | (output1.Snow > 1)].count()\n",
        "nonrainy_days = output1[(output1.Precip <= 0.05)& (output1.Snow < 1)].count()\n",
        "print(f\"\\nThe number of accidents happened on rainy day are: \", rainy_days[\"Precip\"])\n",
        "print(f\"\\nThe number of accidents happened on non-rainy day are: \", nonrainy_days[\"Precip\"])      \n",
        "print(f\"\\nThe ratio between rainy days and non-rainy days is: \", nonrainy_days[\"Precip\"]/rainy_days[\"Precip\"])\n",
        "\n",
        "\n",
        "#B b. What does this ratio tell us?\n",
        "print(\"\\nThe ratio tells us that for one accident on rainy day approximately 54 accidents are happening on non-rainy days\")\n"
      ]
    },
    {
      "cell_type": "code",
      "execution_count": null,
      "id": "f0ffe1e5",
      "metadata": {
        "id": "f0ffe1e5",
        "outputId": "a126f064-f433-467a-8e92-5a5729a41f01"
      },
      "outputs": [
        {
          "data": {
            "image/png": "[encoded data removed]",
            "text/plain": [
              "<Figure size 2160x720 with 1 Axes>"
            ]
          },
          "metadata": {
            "needs_background": "light"
          },
          "output_type": "display_data"
        }
      ],
      "source": [
        "#Q.8Use matplotlib and/or seaborn and show your talent in data visualization. \n",
        "#You are free to visualize anything you want regarding this dataset.\n",
        "import matplotlib.pyplot as plt\n",
        "\n",
        "#8A. Accidents happened in each state.\n",
        "crash_states = md_crash_2020['LICENSE_STATE_CODE'].value_counts()\n",
        "crash_states = pd.DataFrame({'state':crash_states.index, 'count':crash_states.values})\n",
        "#print(crash_states)\n",
        "plt.figure(figsize=(30,10))\n",
        "plt.bar(crash_states[\"state\"],crash_states[\"count\"])\n",
        "plt.xticks(rotation=90)\n",
        "plt.xlabel(\"States\")\n",
        "plt.ylabel(\"No of accidents\")\n",
        "plt.title(\"Accidents happened respect to each state\")\n",
        "plt.show()"
      ]
    },
    {
      "cell_type": "code",
      "execution_count": null,
      "id": "893667af",
      "metadata": {
        "id": "893667af",
        "outputId": "1cf2448e-71dd-42e5-88e8-35b80ed45870"
      },
      "outputs": [
        {
          "data": {
            "image/png": "[encoded data removed]",
            "text/plain": [
              "<Figure size 432x288 with 1 Axes>"
            ]
          },
          "metadata": {
            "needs_background": "light"
          },
          "output_type": "display_data"
        }
      ],
      "source": [
        "#Accidents happened in rainy and non-rainy days\n",
        "fig = plt.figure()\n",
        "ax = fig.add_axes([0,0,1,1])\n",
        "y = [rainy_days[\"Precip\"], nonrainy_days[\"Precip\"]]\n",
        "x = [\"rainy_days\", \"non-rainy_days\"]\n",
        "ax.bar(x,y,width = 0.25)\n",
        "plt.xlabel(\"Weather\")\n",
        "plt.ylabel(\"No of accidents\")\n",
        "plt.title(\"Accidents happen with respect to weather\")\n",
        "plt.show()"
      ]
    },
    {
      "cell_type": "code",
      "execution_count": null,
      "id": "a0adcc55",
      "metadata": {
        "id": "a0adcc55",
        "outputId": "5dc3cb49-09df-4c89-8f43-f03a4743c85a"
      },
      "outputs": [
        {
          "data": {
            "image/png": "[encoded data removed]",
            "text/plain": [
              "<Figure size 432x288 with 1 Axes>"
            ]
          },
          "metadata": {
            "needs_background": "light"
          },
          "output_type": "display_data"
        }
      ],
      "source": [
        "#graph between male and female drivers:\n",
        "gender_graph = md_crash_2020[\"SEX_DESC\"].value_counts()\n",
        "# print(gender_graph)\n",
        "fig = plt.figure()\n",
        "ax = fig.add_axes([0,0,1,1])\n",
        "y = [gender_graph[\"Male\"], gender_graph[\"Female\"]]\n",
        "x = [\"Male\", \"Female\"]\n",
        "ax.bar(x,y,width = 0.25)\n",
        "plt.xlabel(\"Gender\")\n",
        "plt.ylabel(\"No of accidents\")\n",
        "plt.title(\"Accidents happen respect to gender\")\n",
        "plt.show()"
      ]
    },
    {
      "cell_type": "code",
      "execution_count": null,
      "id": "0ba8b628",
      "metadata": {
        "id": "0ba8b628",
        "outputId": "5587d653-1254-48c2-884b-27f3ea54274d"
      },
      "outputs": [
        {
          "data": {
            "image/png": "[encoded data removed]",
            "text/plain": [
              "<Figure size 432x288 with 1 Axes>"
            ]
          },
          "metadata": {
            "needs_background": "light"
          },
          "output_type": "display_data"
        }
      ],
      "source": [
        "#graph between ages of accidents\n",
        "age_graph = md_crash_2020[\"age\"].value_counts()\n",
        "age_graph = pd.DataFrame({'age':age_graph.index, 'count':age_graph.values})\n",
        "x = age_graph[\"age\"]\n",
        "y = age_graph[\"count\"]\n",
        "plt.scatter(x, y)\n",
        "plt.xlabel(\"Age\")\n",
        "plt.ylabel(\"No of accidents\")\n",
        "plt.title(\"Accidents happen respect to age\")\n",
        "plt.gcf().autofmt_xdate()\n",
        "plt.show()\n"
      ]
    },
    {
      "cell_type": "code",
      "execution_count": null,
      "id": "8727a8ed",
      "metadata": {
        "id": "8727a8ed",
        "outputId": "e5fd48ca-9e3b-47c7-9904-f045e51fda23"
      },
      "outputs": [
        {
          "data": {
            "image/png": "[encoded data removed]",
            "text/plain": [
              "<Figure size 432x288 with 1 Axes>"
            ]
          },
          "metadata": {
            "needs_background": "light"
          },
          "output_type": "display_data"
        }
      ],
      "source": [
        "#scatter plot for precip accidents.\n",
        "climate_acc = output1[\"Precip\"].value_counts()\n",
        "climate_acc = pd.DataFrame({'precip':climate_acc.index, 'count':climate_acc.values})\n",
        "x = [climate_acc[\"count\"]]\n",
        "y = [climate_acc[\"precip\"]]\n",
        "plt.scatter(x,y)\n",
        "plt.xlabel(\"No of accidents\")\n",
        "plt.ylabel(\"Precipitation/snowy\")\n",
        "plt.title(\"Accidents happen respect to gender\")\n",
        "plt.gcf().autofmt_xdate()\n",
        "plt.show()"
      ]
    },
    {
      "cell_type": "code",
      "execution_count": null,
      "id": "123c1ac6",
      "metadata": {
        "id": "123c1ac6",
        "outputId": "6f5b1e4e-a2b1-451a-b88c-ee6aad877642"
      },
      "outputs": [
        {
          "data": {
            "image/png": "[encoded data removed]",
            "text/plain": [
              "<Figure size 432x288 with 1 Axes>"
            ]
          },
          "metadata": {
            "needs_background": "light"
          },
          "output_type": "display_data"
        }
      ],
      "source": [
        "#No. of accidents happened at days.\n",
        "acc_day = md_crash_2020[\"ACC_DATE\"].dt.day_name().value_counts()\n",
        "acc_day = pd.DataFrame({'day':acc_day.index, 'count':acc_day.values})\n",
        "# print(acc_day)\n",
        "plt.bar(acc_day[\"day\"], acc_day[\"count\"])\n",
        "plt.xlabel(\"Days\")\n",
        "plt.ylabel(\"No of accidents\")\n",
        "plt.title(\"Accidents happen respect to day\")\n",
        "plt.xticks(rotation=90)\n",
        "plt.show()"
      ]
    },
    {
      "cell_type": "code",
      "execution_count": null,
      "id": "30c247d2",
      "metadata": {
        "id": "30c247d2",
        "outputId": "4d20df6a-8b04-4381-85ce-e4652a5d931c"
      },
      "outputs": [
        {
          "data": {
            "image/png": "[encoded data removed]",
            "text/plain": [
              "<Figure size 432x288 with 1 Axes>"
            ]
          },
          "metadata": {
            "needs_background": "light"
          },
          "output_type": "display_data"
        }
      ],
      "source": [
        "#No. of accidents happened at hour.\n",
        "acc_hour = md_crash_2020[\"ACC_HOUR\"].value_counts()\n",
        "acc_hour = pd.DataFrame({'hour':acc_hour.index, 'count':acc_hour.values})\n",
        "plt.bar(acc_hour[\"hour\"], acc_hour[\"count\"])\n",
        "plt.xlabel(\"Hours\")\n",
        "plt.ylabel(\"No of accidents\")\n",
        "plt.title(\"Accidents happen respect to Hour of the day\")\n",
        "plt.show()"
      ]
    },
    {
      "cell_type": "code",
      "execution_count": null,
      "id": "657e87b9",
      "metadata": {
        "id": "657e87b9",
        "outputId": "3919c83d-dc29-46bf-8da6-1639d50546e4"
      },
      "outputs": [
        {
          "name": "stdout",
          "output_type": "stream",
          "text": [
            "<class 'pandas.core.frame.DataFrame'>\n",
            "Int64Index: 411734 entries, 0 to 411733\n",
            "Data columns (total 18 columns):\n",
            " #   Column              Non-Null Count   Dtype         \n",
            "---  ------              --------------   -----         \n",
            " 0   REPORT_NO           411734 non-null  object        \n",
            " 1   ACC_DATE            411734 non-null  datetime64[ns]\n",
            " 2   ACC_TIME            411734 non-null  datetime64[ns]\n",
            " 3   WEATHER_DESC        99162 non-null   object        \n",
            " 4   COUNTY_DESC         411732 non-null  object        \n",
            " 5   LATITUDE            411734 non-null  float64       \n",
            " 6   LONGITUDE           411734 non-null  float64       \n",
            " 7   SEX_DESC            375047 non-null  object        \n",
            " 8   DATE_OF_BIRTH       374341 non-null  datetime64[ns]\n",
            " 9   LICENSE_STATE_CODE  281728 non-null  object        \n",
            " 10  VEH_YEAR            391634 non-null  datetime64[ns]\n",
            " 11  VEH_MAKE            411712 non-null  object        \n",
            " 12  SPEED_LIMIT         411734 non-null  int64         \n",
            " 13  age                 374341 non-null  float64       \n",
            " 14  CAR_AGE             391634 non-null  float64       \n",
            " 15  DISTANCE            411734 non-null  float64       \n",
            " 16  ACC_DAY             411734 non-null  object        \n",
            " 17  ACC_HOUR            411734 non-null  int64         \n",
            "dtypes: datetime64[ns](4), float64(5), int64(2), object(7)\n",
            "memory usage: 75.8+ MB\n"
          ]
        }
      ],
      "source": [
        "md_crash_2020.to_csv(\"md_crash_2020.csv\")\n",
        "md_crash_2020.info()"
      ]
    },
    {
      "cell_type": "code",
      "execution_count": null,
      "id": "46edfa09",
      "metadata": {
        "id": "46edfa09"
      },
      "outputs": [],
      "source": []
    }
  ],
  "metadata": {
    "kernelspec": {
      "display_name": "Python 3 (ipykernel)",
      "language": "python",
      "name": "python3"
    },
    "language_info": {
      "codemirror_mode": {
        "name": "ipython",
        "version": 3
      },
      "file_extension": ".py",
      "mimetype": "text/x-python",
      "name": "python",
      "nbconvert_exporter": "python",
      "pygments_lexer": "ipython3",
      "version": "3.9.7"
    },
    "colab": {
      "provenance": []
    }
  },
  "nbformat": 4,
  "nbformat_minor": 5
}